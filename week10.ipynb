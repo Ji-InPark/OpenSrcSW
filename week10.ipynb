{
 "cells": [
  {
   "cell_type": "code",
   "execution_count": null,
   "id": "600bfa0c",
   "metadata": {},
   "outputs": [],
   "source": [
    "num_list = list(map(int, input(\"numbers?\").split()))\n",
    "\n",
    "print(max(num_list))"
   ]
  },
  {
   "cell_type": "code",
   "execution_count": 28,
   "id": "321183a8",
   "metadata": {},
   "outputs": [
    {
     "name": "stdout",
     "output_type": "stream",
     "text": [
      "abc def\n",
      "\"abc def\" => 암호화 => \"efg bcd\"\n",
      "\"efg bcd\" => 복호화 => \"abc def\"\n"
     ]
    }
   ],
   "source": [
    "str_list = list(map(str, input().split()))\n",
    "\n",
    "print(\"\\\"%s %s\\\" => 암호화 => \" %(str_list[0], str_list[1]), end='')\n",
    "\n",
    "str_list[0], str_list[1] = str_list[1], str_list[0]\n",
    "\n",
    "for i in range(2):\n",
    "    temp = \"\"\n",
    "    for j in range(len(str_list[i])):\n",
    "         temp += chr(ord(str_list[i][j]) + 1)\n",
    "    str_list[i] = temp\n",
    "\n",
    "print(\"\\\"%s %s\\\"\" %(str_list[0], str_list[1]))\n",
    "\n",
    "print(\"\\\"%s %s\\\" => 복호화 => \" %(str_list[0], str_list[1]), end='')\n",
    "\n",
    "str_list[0], str_list[1] = str_list[1], str_list[0]\n",
    "\n",
    "for i in range(2):\n",
    "    temp = \"\"\n",
    "    for j in range(len(str_list[i])):\n",
    "         temp += chr(ord(str_list[i][j]) - 1)\n",
    "    str_list[i] = temp\n",
    "\n",
    "print(\"\\\"%s %s\\\"\" %(str_list[0], str_list[1]))"
   ]
  },
  {
   "cell_type": "code",
   "execution_count": null,
   "id": "9a6cc12e",
   "metadata": {},
   "outputs": [
    {
     "name": "stdout",
     "output_type": "stream",
     "text": [
      "1번째 사람 이름과 전화번호를 입력하세요 가 123\n",
      "2번째 사람 이름과 전화번호를 입력하세요 나 234\n",
      "3번째 사람 이름과 전화번호를 입력하세요 다 345\n",
      "4번째 사람 이름과 전화번호를 입력하세요 라 456\n",
      "5번째 사람 이름과 전화번호를 입력하세요 마 567\n",
      "6번째 사람 이름과 전화번호를 입력하세요 바 678\n",
      "7번째 사람 이름과 전화번호를 입력하세요 사 789\n",
      "8번째 사람 이름과 전화번호를 입력하세요 아 890\n",
      "9번째 사람 이름과 전화번호를 입력하세요 자 098\n",
      "10번째 사람 이름과 전화번호를 입력하세요 차 987\n",
      "{'가': '123', '나': '234', '다': '345', '라': '456', '마': '567', '바': '678', '사': '789', '아': '890', '자': '098', '차': '987'}\n",
      "1) 이름으로 전화번호 찾기  2) 전화번호로 이름 찾기 1\n",
      "찾으실 분의 이름을 적어주세요아\n",
      "아의 전화번호는 890입니다.\n",
      "1) 이름으로 전화번호 찾기  2) 전화번호로 이름 찾기 2\n",
      "찾으실 분의 전화번호 적어주세요456\n",
      "라의 전화번호는 456입니다.\n"
     ]
    }
   ],
   "source": [
    "my_dict = dict()\n",
    "for i in range(1, 11, 1):\n",
    "    name, number = input(\"%d번째 사람 이름과 전화번호를 입력하세요 \" %i).split()\n",
    "    my_dict[name] = number\n",
    "\n",
    "while(True):\n",
    "    option = int(input(\"1) 이름으로 전화번호 찾기  2) 전화번호로 이름 찾기 \"))\n",
    "    if(option == 1):\n",
    "        name = input(\"찾으실 분의 이름을 적어주세요 \")\n",
    "        print(\"\\\"%s\\\"의 전화번호는 %s입니다.\" %(name, my_dict[name]))\n",
    "    elif(option == 2):\n",
    "        number = input(\"찾으실 분의 전화번호 적어주세요 \")\n",
    "        for key, value in my_dict.items():\n",
    "            if(value == number):\n",
    "                print(\"전화번호 %s는 \\\"%s\\\"의 전화번호입니다.\" %(value, key))\n",
    "    else:\n",
    "        break"
   ]
  },
  {
   "cell_type": "code",
   "execution_count": null,
   "id": "74a6a21d",
   "metadata": {},
   "outputs": [],
   "source": []
  },
  {
   "cell_type": "code",
   "execution_count": null,
   "id": "b0760267",
   "metadata": {},
   "outputs": [],
   "source": []
  }
 ],
 "metadata": {
  "kernelspec": {
   "display_name": "Python 3",
   "language": "python",
   "name": "python3"
  },
  "language_info": {
   "codemirror_mode": {
    "name": "ipython",
    "version": 3
   },
   "file_extension": ".py",
   "mimetype": "text/x-python",
   "name": "python",
   "nbconvert_exporter": "python",
   "pygments_lexer": "ipython3",
   "version": "3.7.0b5"
  }
 },
 "nbformat": 4,
 "nbformat_minor": 5
}
