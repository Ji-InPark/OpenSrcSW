{
 "cells": [
  {
   "cell_type": "code",
   "execution_count": 19,
   "id": "f16ccc19",
   "metadata": {},
   "outputs": [
    {
     "name": "stdout",
     "output_type": "stream",
     "text": [
      "(1, 2)\n",
      "(3, 4)\n",
      "(4, 6)\n"
     ]
    }
   ],
   "source": [
    "class Point:\n",
    "    def __init__(self, a, b):\n",
    "        self.a = a\n",
    "        self.b = b \n",
    "    def show(self):\n",
    "        print(\"({0}, {1})\".format(self.a, self.b))\n",
    "    def __add__(self, other):\n",
    "        self.a = self.a + other.a\n",
    "        self.b = self.b + other.b\n",
    "        return self\n",
    "        \n",
    "a = Point(1, 2)\n",
    "a.show()\n",
    "\n",
    "b = Point(3, 4)\n",
    "b.show()\n",
    "\n",
    "a = a + b\n",
    "a.show()"
   ]
  },
  {
   "cell_type": "code",
   "execution_count": 2,
   "id": "5f72ec32",
   "metadata": {},
   "outputs": [
    {
     "name": "stdout",
     "output_type": "stream",
     "text": [
      "Max Week: 2021-05-08 ~ 2021-05-14\n"
     ]
    }
   ],
   "source": [
    "import csv\n",
    "f = open('seoul.csv', 'r', encoding='cp949')\n",
    "\n",
    "data = csv.reader(f)\n",
    "\n",
    "header = next(data)\n",
    "\n",
    "save = []\n",
    "\n",
    "start_date = 0;\n",
    "end_date = 0;\n",
    "\n",
    "max_temp = 0;\n",
    "\n",
    "for row in data:\n",
    "    save.append(row)\n",
    "\n",
    "for i in range(len(save) - 6):\n",
    "    sum_temp = 0;\n",
    "    for j in range(7):\n",
    "        sum_temp = sum_temp + float(save[i + j][4]) - float(save[i + j][3])\n",
    "    if(sum_temp > max_temp):\n",
    "        max_temp = sum_temp\n",
    "        start_date = save[i][0]\n",
    "        end_date = save[i + 6][0]\n",
    "\n",
    "print(\"Max Week: {0} ~ {1}\".format(start_date, end_date))\n"
   ]
  },
  {
   "cell_type": "code",
   "execution_count": 14,
   "id": "ec6e0b7f",
   "metadata": {},
   "outputs": [
    {
     "name": "stdout",
     "output_type": "stream",
     "text": [
      "[2, 3, 2]\n",
      "[2, 3, 2]\n"
     ]
    },
    {
     "data": {
      "text/plain": [
       "<BarContainer object of 3 artists>"
      ]
     },
     "execution_count": 14,
     "metadata": {},
     "output_type": "execute_result"
    },
    {
     "data": {
      "image/png": "[encoded data removed]",
      "text/plain": [
       "<Figure size 432x288 with 1 Axes>"
      ]
     },
     "metadata": {
      "needs_background": "light"
     },
     "output_type": "display_data"
    }
   ],
   "source": [
    "import numpy as np\n",
    "import math\n",
    "import matplotlib.pyplot as plt\n",
    "\n",
    "docs = np.array([[1, 1, 0, 1, 0, 1], [1, 1, 1, 0, 1, 0], [1, 1, 0, 1, 0, 0]])\n",
    "query = np.array([1, 1, 0, 0, 1, 0])\n",
    "\n",
    "array = []\n",
    "array2 = []\n",
    "\n",
    "\n",
    "for doc in docs:\n",
    "    array.append(np.sum(doc * query))\n",
    "    \n",
    "plt.title(\"Cosine similarities\")\n",
    "plt.bar([\"first\", \"second\", \"third\"], array)"
   ]
  },
  {
   "cell_type": "code",
   "execution_count": null,
   "id": "6cf7f766",
   "metadata": {},
   "outputs": [],
   "source": []
  }
 ],
 "metadata": {
  "kernelspec": {
   "display_name": "Python 3",
   "language": "python",
   "name": "python3"
  },
  "language_info": {
   "codemirror_mode": {
    "name": "ipython",
    "version": 3
   },
   "file_extension": ".py",
   "mimetype": "text/x-python",
   "name": "python",
   "nbconvert_exporter": "python",
   "pygments_lexer": "ipython3",
   "version": "3.7.0b5"
  }
 },
 "nbformat": 4,
 "nbformat_minor": 5
}
