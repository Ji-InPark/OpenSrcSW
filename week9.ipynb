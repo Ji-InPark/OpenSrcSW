{
 "cells": [
  {
   "cell_type": "code",
   "execution_count": 2,
   "id": "d9f223bf",
   "metadata": {},
   "outputs": [
    {
     "name": "stdout",
     "output_type": "stream",
     "text": [
      "x값을 입력해주세요.3\n",
      "45.0\n"
     ]
    }
   ],
   "source": [
    "x = float(input(\"x값을 입력해주세요.\"))\n",
    "\n",
    "y = 3 * x ** 2 + 5 * x + 3\n",
    "\n",
    "print(y)"
   ]
  },
  {
   "cell_type": "code",
   "execution_count": 8,
   "id": "13f20c93",
   "metadata": {},
   "outputs": [
    {
     "name": "stdout",
     "output_type": "stream",
     "text": [
      "반지름을 입력해주세요10\n",
      "원의 둘레:  62.800000000000004\n",
      "원의 넓이:  314.0\n"
     ]
    }
   ],
   "source": [
    "pi = 3.14\n",
    "\n",
    "r = float(input(\"반지름을 입력해주세요\"))\n",
    "\n",
    "circle_round = 2 * pi * r\n",
    "circle_area = pi * r ** 2\n",
    "\n",
    "print(\"원의 둘레: \", circle_round)\n",
    "print(\"원의 넓이: \", circle_area)"
   ]
  },
  {
   "cell_type": "code",
   "execution_count": null,
   "id": "0b85af7a",
   "metadata": {},
   "outputs": [],
   "source": []
  }
 ],
 "metadata": {
  "kernelspec": {
   "display_name": "Python 3",
   "language": "python",
   "name": "python3"
  },
  "language_info": {
   "codemirror_mode": {
    "name": "ipython",
    "version": 3
   },
   "file_extension": ".py",
   "mimetype": "text/x-python",
   "name": "python",
   "nbconvert_exporter": "python",
   "pygments_lexer": "ipython3",
   "version": "3.7.0b5"
  }
 },
 "nbformat": 4,
 "nbformat_minor": 5
}
