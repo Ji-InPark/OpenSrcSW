{
 "cells": [
  {
   "cell_type": "code",
   "execution_count": 13,
   "id": "5392d184",
   "metadata": {},
   "outputs": [
    {
     "name": "stdout",
     "output_type": "stream",
     "text": [
      "cp file1.txt file2.txt\n",
      "copied\n"
     ]
    }
   ],
   "source": [
    "userinput = str(input())\n",
    "\n",
    "operator_list = list(userinput.split())\n",
    "\n",
    "if operator_list[0] == \"cp\":\n",
    "    fr = open(operator_list[1], 'rt', encoding='UTF8')\n",
    "    fw = open(operator_list[2], 'w')\n",
    "    \n",
    "    while True:\n",
    "        line = fr.readline()\n",
    "        if not line: break\n",
    "        fw.write(line)\n",
    "    print(\"copied\")\n",
    "    "
   ]
  },
  {
   "cell_type": "code",
   "execution_count": 11,
   "id": "681ddc6d",
   "metadata": {},
   "outputs": [
    {
     "name": "stdout",
     "output_type": "stream",
     "text": [
      "wc file1.txt\n",
      "line 개수 6\n",
      "word 개수 14\n"
     ]
    }
   ],
   "source": [
    "userinput = str(input())\n",
    "\n",
    "operator_list = list(userinput.split())\n",
    "\n",
    "word_cnt = 0\n",
    "line_cnt = 0\n",
    "\n",
    "if operator_list[0] == \"wc\":\n",
    "    fr = open(operator_list[1], 'rt', encoding='UTF8')\n",
    "    \n",
    "    while True:\n",
    "        line = fr.readline()\n",
    "        if not line: break\n",
    "        \n",
    "        line_cnt += 1\n",
    "        word_cnt += len(list(line.split()))\n",
    "    \n",
    "    print(\"line 개수\", line_cnt)\n",
    "    print(\"word 개수\", word_cnt)\n",
    "        \n",
    "    \n",
    "    "
   ]
  },
  {
   "cell_type": "code",
   "execution_count": 7,
   "id": "43604b81",
   "metadata": {},
   "outputs": [
    {
     "ename": "ValueError",
     "evalue": "Unknown format code 's' for object of type 'int'",
     "output_type": "error",
     "traceback": [
      "\u001b[1;31m---------------------------------------------------------------------------\u001b[0m",
      "\u001b[1;31mValueError\u001b[0m                                Traceback (most recent call last)",
      "\u001b[1;32m<ipython-input-7-ae833f9e73e5>\u001b[0m in \u001b[0;36m<module>\u001b[1;34m\u001b[0m\n\u001b[0;32m      4\u001b[0m \u001b[1;33m\u001b[0m\u001b[0m\n\u001b[0;32m      5\u001b[0m \u001b[0mcalc\u001b[0m \u001b[1;33m=\u001b[0m \u001b[0mCalc\u001b[0m\u001b[1;33m(\u001b[0m\u001b[1;33m)\u001b[0m\u001b[1;33m\u001b[0m\u001b[0m\n\u001b[1;32m----> 6\u001b[1;33m \u001b[0mcalc\u001b[0m\u001b[1;33m.\u001b[0m\u001b[0msum\u001b[0m\u001b[1;33m(\u001b[0m\u001b[1;36m1\u001b[0m\u001b[1;33m,\u001b[0m \u001b[1;36m2\u001b[0m\u001b[1;33m)\u001b[0m\u001b[1;33m\u001b[0m\u001b[0m\n\u001b[0m\u001b[0;32m      7\u001b[0m \u001b[0mcalc\u001b[0m\u001b[1;33m.\u001b[0m\u001b[0msub\u001b[0m\u001b[1;33m(\u001b[0m\u001b[1;36m5\u001b[0m\u001b[1;33m,\u001b[0m \u001b[1;36m1\u001b[0m\u001b[1;33m)\u001b[0m\u001b[1;33m\u001b[0m\u001b[0m\n\u001b[0;32m      8\u001b[0m \u001b[0mcalc\u001b[0m\u001b[1;33m.\u001b[0m\u001b[0mmulti\u001b[0m\u001b[1;33m(\u001b[0m\u001b[1;36m2\u001b[0m\u001b[1;33m,\u001b[0m \u001b[1;36m3\u001b[0m\u001b[1;33m)\u001b[0m\u001b[1;33m\u001b[0m\u001b[0m\n",
      "\u001b[1;32m~\\Documents\\대학 관련 자료\\강의관련자료\\2학년 1학기\\오픈소스SW입문\\과제\\OpenSourceSW\\Class_for_Assignment8.ipynb\u001b[0m in \u001b[0;36msum\u001b[1;34m(self, a, b)\u001b[0m\n",
      "\u001b[1;31mValueError\u001b[0m: Unknown format code 's' for object of type 'int'"
     ]
    }
   ],
   "source": [
    "# -*- coding: cp949 -*-\n",
    "import import_ipynb\n",
    "from Class_for_Assignment8 import Calc\n",
    "\n",
    "calc = Calc()\n",
    "calc.sum(1, 2)\n",
    "calc.sub(5, 1)\n",
    "calc.multi(2, 3)\n",
    "calc.divi(6, 2)"
   ]
  },
  {
   "cell_type": "code",
   "execution_count": 71,
   "id": "838d5770",
   "metadata": {},
   "outputs": [
    {
     "name": "stdout",
     "output_type": "stream",
     "text": [
      "1 + 2 - 3 * 4 + 5\n",
      "1 + 2 - 3 * 4 + 5 = -4.0\n"
     ]
    }
   ],
   "source": [
    "# -*- coding: cp949 -*-\n",
    "class stack:\n",
    "    def __init__(self):\n",
    "        self.array = []\n",
    "    def push(self, a):\n",
    "        self.array.append(a)\n",
    "    def pop(self):\n",
    "        if len(self.array) == 0:\n",
    "            return False\n",
    "        else:\n",
    "            return self.array.pop()\n",
    "    def front(self):\n",
    "        if len(self.array) == -1:\n",
    "            return False\n",
    "        else:\n",
    "            return self.array[-1]\n",
    "    def size(self):\n",
    "        return len(self.array)\n",
    "    \n",
    "num = stack()\n",
    "op = stack()\n",
    "\n",
    "userinput = list(input().split())\n",
    "\n",
    "for i in range(0, len(userinput)):\n",
    "    try:\n",
    "        float(userinput[i])\n",
    "        num.push(float(userinput[i]))\n",
    "    except ValueError:\n",
    "        if op.size() == 0:\n",
    "            op.push(userinput[i])\n",
    "        else:\n",
    "            if op.front() in \"+-\":\n",
    "                if userinput[i] in \"+-\":\n",
    "                    if op.pop() == \"+\":\n",
    "                        num.push(num.pop() + num.pop())\n",
    "                    else:\n",
    "                        num.push(-1 * (num.pop() - num.pop()))\n",
    "                    op.push(userinput[i])\n",
    "                else:\n",
    "                    op.push(userinput[i])\n",
    "            else:\n",
    "                temp_op = userinput[i]\n",
    "                if op.pop() == \"*\":\n",
    "                    num.push(num.pop() * num.pop())\n",
    "                else:\n",
    "                    temp = num.pop()\n",
    "                    num.push(num.pop() / temp)\n",
    "                    \n",
    "                for i in range(op.size()):\n",
    "                    if op.pop() == \"+\":\n",
    "                        num.push(num.pop() + num.pop())\n",
    "                    else:\n",
    "                        num.push(-1 * (num.pop() - num.pop()))\n",
    "                op.push(temp_op)\n",
    "                \n",
    "for i in range(op.size()):\n",
    "    if op.front() == \"+\":\n",
    "        num.push(num.pop() + num.pop())\n",
    "        op.pop()\n",
    "    elif op.front() == \"-\":\n",
    "        num.push(-1 * (num.pop() - num.pop()))\n",
    "        op.pop()\n",
    "    elif op.front() == \"*\":\n",
    "        num.push(num.pop() * num.pop())\n",
    "        op.pop()\n",
    "    else:\n",
    "        num.push(-1 * (num.pop() - num.pop()))\n",
    "        op.pop()\n",
    "                \n",
    "result = num.pop()\n",
    "\n",
    "for i in range(len(userinput)):\n",
    "    print(userinput[i], end=' ')\n",
    "    \n",
    "print(\"=\",result)\n",
    "            \n",
    "        \n"
   ]
  },
  {
   "cell_type": "code",
   "execution_count": null,
   "id": "4b1112a0",
   "metadata": {},
   "outputs": [],
   "source": []
  }
 ],
 "metadata": {
  "kernelspec": {
   "display_name": "Python 3",
   "language": "python",
   "name": "python3"
  },
  "language_info": {
   "codemirror_mode": {
    "name": "ipython",
    "version": 3
   },
   "file_extension": ".py",
   "mimetype": "text/x-python",
   "name": "python",
   "nbconvert_exporter": "python",
   "pygments_lexer": "ipython3",
   "version": "3.7.0b5"
  }
 },
 "nbformat": 4,
 "nbformat_minor": 5
}
