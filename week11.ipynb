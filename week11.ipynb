{
 "cells": [
  {
   "cell_type": "code",
   "execution_count": 13,
   "id": "5392d184",
   "metadata": {},
   "outputs": [
    {
     "name": "stdout",
     "output_type": "stream",
     "text": [
      "cp file1.txt file2.txt\n",
      "copied\n"
     ]
    }
   ],
   "source": [
    "userinput = str(input())\n",
    "\n",
    "operator_list = list(userinput.split())\n",
    "\n",
    "if operator_list[0] == \"cp\":\n",
    "    fr = open(operator_list[1], 'rt', encoding='UTF8')\n",
    "    fw = open(operator_list[2], 'w')\n",
    "    \n",
    "    while True:\n",
    "        line = fr.readline()\n",
    "        if not line: break\n",
    "        fw.write(line)\n",
    "    print(\"copied\")\n",
    "    "
   ]
  },
  {
   "cell_type": "code",
   "execution_count": 11,
   "id": "681ddc6d",
   "metadata": {},
   "outputs": [
    {
     "name": "stdout",
     "output_type": "stream",
     "text": [
      "wc file1.txt\n",
      "line 개수 6\n",
      "word 개수 14\n"
     ]
    }
   ],
   "source": [
    "userinput = str(input())\n",
    "\n",
    "operator_list = list(userinput.split())\n",
    "\n",
    "word_cnt = 0\n",
    "line_cnt = 0\n",
    "\n",
    "if operator_list[0] == \"wc\":\n",
    "    fr = open(operator_list[1], 'rt', encoding='UTF8')\n",
    "    \n",
    "    while True:\n",
    "        line = fr.readline()\n",
    "        if not line: break\n",
    "        \n",
    "        line_cnt += 1\n",
    "        word_cnt += len(list(line.split()))\n",
    "    \n",
    "    print(\"line 개수\", line_cnt)\n",
    "    print(\"word 개수\", word_cnt)\n",
    "        \n",
    "    \n",
    "    "
   ]
  },
  {
   "cell_type": "code",
   "execution_count": 15,
   "id": "43604b81",
   "metadata": {},
   "outputs": [
    {
     "name": "stdout",
     "output_type": "stream",
     "text": [
      "1 + 2 = 3입니다\n"
     ]
    }
   ],
   "source": [
    "# -*- coding: cp949 -*-\n",
    "class Calc:\n",
    "    def sum(self, a, b):\n",
    "        result = a + b\n",
    "        print(\"%s + %s = %s입니다\" %(a, b, result))\n",
    "    def subtraction(self, a, b):\n",
    "        result = a - b\n",
    "        print(\"%s - %s = %s입니다\" %(a, b, result))\n",
    "    def multiplication(self, a, b):\n",
    "        result = a * b\n",
    "        print(\"%s * %s = %s입니다\" %(a, b, result))\n",
    "    def division(self, a, b):\n",
    "        result = a / b\n",
    "        print(\"%s / %s = %s입니다\" %(a, b, result))        "
   ]
  },
  {
   "cell_type": "code",
   "execution_count": 71,
   "id": "838d5770",
   "metadata": {},
   "outputs": [
    {
     "name": "stdout",
     "output_type": "stream",
     "text": [
      "1 + 2 - 3 * 4 + 5\n",
      "1 + 2 - 3 * 4 + 5 = -4.0\n"
     ]
    }
   ],
   "source": [
    "# -*- coding: cp949 -*-\n",
    "class stack:\n",
    "    def __init__(self):\n",
    "        self.array = []\n",
    "    def push(self, a):\n",
    "        self.array.append(a)\n",
    "    def pop(self):\n",
    "        if len(self.array) == 0:\n",
    "            return False\n",
    "        else:\n",
    "            return self.array.pop()\n",
    "    def front(self):\n",
    "        if len(self.array) == -1:\n",
    "            return False\n",
    "        else:\n",
    "            return self.array[-1]\n",
    "    def size(self):\n",
    "        return len(self.array)\n",
    "    \n",
    "num = stack()\n",
    "op = stack()\n",
    "\n",
    "userinput = list(input().split())\n",
    "\n",
    "for i in range(0, len(userinput)):\n",
    "    try:\n",
    "        float(userinput[i])\n",
    "        num.push(float(userinput[i]))\n",
    "    except ValueError:\n",
    "        if op.size() == 0:\n",
    "            op.push(userinput[i])\n",
    "        else:\n",
    "            if op.front() in \"+-\":\n",
    "                if userinput[i] in \"+-\":\n",
    "                    if op.pop() == \"+\":\n",
    "                        num.push(num.pop() + num.pop())\n",
    "                    else:\n",
    "                        num.push(-1 * (num.pop() - num.pop()))\n",
    "                    op.push(userinput[i])\n",
    "                else:\n",
    "                    op.push(userinput[i])\n",
    "            else:\n",
    "                temp_op = userinput[i]\n",
    "                if op.pop() == \"*\":\n",
    "                    num.push(num.pop() * num.pop())\n",
    "                else:\n",
    "                    temp = num.pop()\n",
    "                    num.push(num.pop() / temp)\n",
    "                    \n",
    "                for i in range(op.size()):\n",
    "                    if op.pop() == \"+\":\n",
    "                        num.push(num.pop() + num.pop())\n",
    "                    else:\n",
    "                        num.push(-1 * (num.pop() - num.pop()))\n",
    "                op.push(temp_op)\n",
    "                \n",
    "for i in range(op.size()):\n",
    "    if op.front() == \"+\":\n",
    "        num.push(num.pop() + num.pop())\n",
    "        op.pop()\n",
    "    elif op.front() == \"-\":\n",
    "        num.push(-1 * (num.pop() - num.pop()))\n",
    "        op.pop()\n",
    "    elif op.front() == \"*\":\n",
    "        num.push(num.pop() * num.pop())\n",
    "        op.pop()\n",
    "    else:\n",
    "        num.push(-1 * (num.pop() - num.pop()))\n",
    "        op.pop()\n",
    "                \n",
    "result = num.pop()\n",
    "\n",
    "for i in range(len(userinput)):\n",
    "    print(userinput[i], end=' ')\n",
    "    \n",
    "print(\"=\",result)\n",
    "            \n",
    "        \n"
   ]
  },
  {
   "cell_type": "code",
   "execution_count": null,
   "id": "4b1112a0",
   "metadata": {},
   "outputs": [],
   "source": []
  }
 ],
 "metadata": {
  "kernelspec": {
   "display_name": "Python 3",
   "language": "python",
   "name": "python3"
  },
  "language_info": {
   "codemirror_mode": {
    "name": "ipython",
    "version": 3
   },
   "file_extension": ".py",
   "mimetype": "text/x-python",
   "name": "python",
   "nbconvert_exporter": "python",
   "pygments_lexer": "ipython3",
   "version": "3.7.0b5"
  }
 },
 "nbformat": 4,
 "nbformat_minor": 5
}
