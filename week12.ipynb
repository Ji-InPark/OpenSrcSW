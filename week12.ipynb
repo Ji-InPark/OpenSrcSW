{
 "cells": [
  {
   "cell_type": "code",
   "execution_count": 9,
   "id": "bec0329e",
   "metadata": {},
   "outputs": [
    {
     "name": "stdout",
     "output_type": "stream",
     "text": [
      "일교차가 가장 큰 날\n",
      "날짜:  2020-05-06\n",
      "최저기온이 가장 낮은 날\n",
      "날짜:  2020-06-22\n",
      "최고기온이 가장 높은 날\n",
      "날짜:  2020-12-30\n"
     ]
    }
   ],
   "source": [
    "# -*- coding: cp949 -*-\n",
    "\n",
    "import csv\n",
    "\n",
    "f = open('weather_data.csv', 'r', encoding='cp949')\n",
    "\n",
    "data = csv.reader(f, delimiter=',')\n",
    "\n",
    "header = next(data)\n",
    "\n",
    "max_diff = -1;\n",
    "maxd_date = ''\n",
    "\n",
    "max_temp = -999;\n",
    "maxt_date = ''\n",
    "\n",
    "min_temp = 999;\n",
    "mint_date = ''\n",
    "\n",
    "for row in data:\n",
    "    if row == []:\n",
    "        break;\n",
    "    for i in range(2, 5):\n",
    "        row[i] = float(row[i])\n",
    "    temp_diff = row[4] - row[3]\n",
    "    \n",
    "    if max_diff < temp_diff:\n",
    "        max_diff = temp_diff\n",
    "        maxd_date = row[0]\n",
    "    if max_temp < row[4]:\n",
    "        max_temp = row[4]\n",
    "        maxt_date = row[0]\n",
    "    if min_temp > row[3]:\n",
    "        min_temp = row[3]\n",
    "        mint_date = row[0]\n",
    "\n",
    "print(\"일교차가 가장 큰 날\")\n",
    "print(\"날짜: \", maxd_date)\n",
    "print(\"최저기온이 가장 낮은 날\")\n",
    "print(\"날짜: \", maxt_date)\n",
    "print(\"최고기온이 가장 높은 날\")\n",
    "print(\"날짜: \", mint_date)"
   ]
  },
  {
   "cell_type": "code",
   "execution_count": 18,
   "id": "1dcddd61",
   "metadata": {},
   "outputs": [
    {
     "name": "stdout",
     "output_type": "stream",
     "text": [
      "이용객이 가장 많은 역 순위\n",
      "1. 강남(3167883)\n",
      "2. 신림(2799927)\n",
      "3. 잠실(송파구청)(2669433)\n",
      "이용객이 가장 적은 역 순위\n",
      "1. 계양(2)\n",
      "2. 신내(3)\n",
      "3. 지축(4)\n"
     ]
    }
   ],
   "source": [
    "# -*- coding: cp949 -*-\n",
    "\n",
    "import csv\n",
    "\n",
    "f = open('subway_data.csv', 'r', encoding='UTF-8')\n",
    "\n",
    "data = csv.reader(f, delimiter=',')\n",
    "\n",
    "header = next(data)\n",
    "\n",
    "cli_max = [0, 0, 0]\n",
    "max_station = ['', '', '']\n",
    "\n",
    "cli_min = [9999999, 9999999, 9999999]\n",
    "min_station = ['', '', '']\n",
    "\n",
    "for row in data:\n",
    "    if row == []:\n",
    "        break;\n",
    "    for i in range(4, 6):\n",
    "        row[i] = row[i].replace(',', '')\n",
    "        row[i] = int(row[i])\n",
    "    user_max = row[4] + row[5]\n",
    "    user_min = user_max\n",
    "    \n",
    "    station_max = row[3]\n",
    "    station_min = station_max\n",
    "    for i in range(3):\n",
    "        if cli_max[i] < user_max:\n",
    "            temp = cli_max[i]\n",
    "            cli_max[i] = user_max\n",
    "            user_max = temp\n",
    "            \n",
    "            temp_station = max_station[i]\n",
    "            max_station[i] = station_max\n",
    "            station_max = temp_station\n",
    "    for i in range(3):\n",
    "        if cli_min[i] > user_min:\n",
    "            temp = cli_min[i]\n",
    "            cli_min[i] = user_min\n",
    "            user_min = temp\n",
    "            \n",
    "            temp_station = min_station[i]\n",
    "            min_station[i] = station_min\n",
    "            station_min = temp_station\n",
    "    \n",
    "print(\"이용객이 가장 많은 역 순위\")\n",
    "for i in range(3):\n",
    "    print(\"{0}. {1}({2})\".format((i+1), max_station[i], cli_max[i]))\n",
    "    \n",
    "print(\"이용객이 가장 적은 역 순위\")\n",
    "for i in range(3):\n",
    "    print(\"{0}. {1}({2})\".format((i+1), min_station[i], cli_min[i]))\n"
   ]
  }
 ],
 "metadata": {
  "kernelspec": {
   "display_name": "Python 3",
   "language": "python",
   "name": "python3"
  },
  "language_info": {
   "codemirror_mode": {
    "name": "ipython",
    "version": 3
   },
   "file_extension": ".py",
   "mimetype": "text/x-python",
   "name": "python",
   "nbconvert_exporter": "python",
   "pygments_lexer": "ipython3",
   "version": "3.7.0b5"
  }
 },
 "nbformat": 4,
 "nbformat_minor": 5
}
